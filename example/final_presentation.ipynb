{
 "cells": [
  {
   "cell_type": "markdown",
   "id": "06d6296d-9187-4737-ab9b-b73bc0d521bc",
   "metadata": {
    "jp-MarkdownHeadingCollapsed": true
   },
   "source": [
    "# **Power System Simulation Final Presentation FUSE**\n",
    "\n",
    "## **Introduction**\n",
    "Welcome to the final presentation on Power System Simulation. In this presentation, we will cover the following packages:\n",
    "\n",
    "`graph_processing.py`\n",
    "- Initialization and validation\n",
    "- Find downstream vertices\n",
    "- Find alternatie edges\n",
    "\n",
    "`power_grid_modelling.py`\n",
    "- Handle PGM input format\n",
    "- Aggregate power flow results in tables\n",
    "- Show tables\n",
    "\n",
    "\n",
    "`grid_analytic.py`\n",
    "- Calculate EV penetration levels\n",
    "- Calculate optimal tap positions\n",
    "- Do N-1 calculations\n",
    "\n",
    "We have tested all the packages using `pytest` to ensure there are no errors and that the output is as expected. For performance checking, we will also run a timer to check how fast the package would run.\n",
    "\n",
    "To be able to use the package, users must install the following dependencies (libraries):\n",
    "* `numpy`\n",
    "* `pandas`\n",
    "* `networkx`\n",
    "* `power-grid-model`\n",
    "* `math`\n",
    "* `random`"
   ]
  },
  {
   "cell_type": "code",
   "execution_count": 1,
   "id": "b5b52833-9e5e-40c8-a268-43a2bc0c35a9",
   "metadata": {},
   "outputs": [],
   "source": [
    "# Create a timer class\n",
    "import time\n",
    "\n",
    "class Timer:\n",
    "    def __init__(self, name: str):\n",
    "        self.name = name\n",
    "        self.start = None\n",
    "\n",
    "    def __enter__(self):\n",
    "        self.start = time.perf_counter()\n",
    "\n",
    "    def __exit__(self, *args):\n",
    "        print(\n",
    "            f'Execution time for {self.name} is {(time.perf_counter() - self.start):0.6f} s'\n",
    "        )"
   ]
  },
  {
   "cell_type": "code",
   "execution_count": 8,
   "id": "d9c1455e",
   "metadata": {},
   "outputs": [],
   "source": [
    "# Importing all functions from the package\n",
    "from power_system_simulation.graph_processing import GraphProcessor\n",
    "from power_system_simulation.power_grid_modelling import PowerGridModelling\n",
    "from power_system_simulation.grid_analytic import GridAnalysis"
   ]
  },
  {
   "cell_type": "markdown",
   "id": "fb0ee5c6",
   "metadata": {},
   "source": [
    "## **1.Graph-Processing**\n",
    "\n",
    "This section covers the functionalities and usage of the `graph_processing.py` package. The `graph_processing.py` package builds an undirected graph and implements two functionalties namely, `find_downstream_vertices()` and `find_alternative_edges()`.\n",
    "This section covers the functionalities and usage of the `graph_processing.py` package. The `graph_processing.py` package builds an undirected graph and implements two functionalties namely, `find_downstream_vertices()` and `find_alternative_edges()`.\n",
    "\n",
    "### **1.1 Input data**\n",
    "\n",
    "To create a graph the following parameters need to be defined:\n",
    "* `edge_ids`\n",
    "* `edge_vertex_id_pairs`\n",
    "* `edge_enabled`\n",
    "* `source_vertex_id`\n",
    "\n",
    "For example, we have a network created as follow:"
   ]
  },
  {
   "cell_type": "markdown",
   "id": "0cfdb876",
   "metadata": {},
   "source": [
    "      ------- edge_1---- source_0 ------ edge_5 -----\n",
    "      |                    |                       |\n",
    "      |                  edge_3                    |\n",
    "      |                    |                       |\n",
    "    vertex_2 -- edge_7 -- vertex_4  -- edge_8 --vertex_6\n",
    "      |\n",
    "    edge_9\n",
    "      |\n",
    "    vertex_10  "
   ]
  },
  {
   "cell_type": "markdown",
   "id": "193abd6f",
   "metadata": {},
   "source": [
    "If we only take into account the enabled edges:"
   ]
  },
  {
   "cell_type": "markdown",
   "id": "2406e05e",
   "metadata": {},
   "source": [
    "      ------- edge_1---- source_0 ------ edge_5 -----\n",
    "      |                    |                       |\n",
    "      |                  edge_3                    |\n",
    "      |                    |                       |\n",
    "    vertex_2            vertex_4                vertex_6\n",
    "      |\n",
    "    edge_9\n",
    "      |\n",
    "    vertex_10  "
   ]
  },
  {
   "cell_type": "code",
   "execution_count": 13,
   "id": "6b27bab5",
   "metadata": {},
   "outputs": [],
   "source": [
    "# Create input data\n",
    "# List of edge IDs.    \n",
    "edge_ids = [1, 3, 5, 7, 8, 9]\n",
    "# Tuples representing connections between vertices, defining the graph's edges.\n",
    "edge_vertex_id = [(0, 2), (0, 4), (0, 6), (2, 4), (4, 6), (2, 10)]\n",
    "# List indicating whether each edge is enabled or disabled.\n",
    "edge_enabled = [True, True, True, False, False, True]\n",
    "# ID of the vertex that is also a source.\n",
    "source_id = 0\n",
    "\n",
    "# Calling the class\n",
    "result = GraphProcessor(\n",
    "    edge_ids=edge_ids,\n",
    "    edge_vertex_id_pairs=edge_vertex_id,\n",
    "    edge_enabled=edge_enabled,\n",
    "    source_vertex_id=source_id,\n",
    ")"
   ]
  },
  {
   "cell_type": "markdown",
   "id": "a2f84af3",
   "metadata": {},
   "source": [
    "If we want to know what is the downstream vertices at a given edge (for example edge 1) with respect to the source:"
   ]
  },
  {
   "cell_type": "code",
   "execution_count": 14,
   "id": "d94ef800",
   "metadata": {},
   "outputs": [
    {
     "name": "stdout",
     "output_type": "stream",
     "text": [
      "[2, 10]\n"
     ]
    }
   ],
   "source": [
    "edge_id = 1\n",
    "\n",
    "downstream_vertices = result.find_downstream_vertices(edge_id=edge_id)\n",
    "print(downstream_vertices)"
   ]
  },
  {
   "cell_type": "markdown",
   "id": "860c1074",
   "metadata": {},
   "source": [
    "And if we want to know the alternative adges to be connected if we disconnect the edge 5 "
   ]
  },
  {
   "cell_type": "code",
   "execution_count": 17,
   "id": "41643185",
   "metadata": {},
   "outputs": [
    {
     "name": "stdout",
     "output_type": "stream",
     "text": [
      "[8]\n"
     ]
    }
   ],
   "source": [
    "edge_id = 5\n",
    "\n",
    "alternative_eges = result.find_alternative_edges(edge_id)\n",
    "print(alternative_eges)"
   ]
  },
  {
   "cell_type": "markdown",
   "id": "9d6270dd",
   "metadata": {},
   "source": [
    "## **2 Power Grid Modelling Package**\n",
    "In this assignment, we used the `power_grid_model` package as our core package for calculations."
   ]
  },
  {
   "cell_type": "markdown",
   "id": "1867b316",
   "metadata": {},
   "source": [
    "We also used `pandas` and `numpy` for dataframes and ndarrays related functionality. For coherence with previous assignment, we also created a class called PowerGridModelling, along with some expected errors.\n",
    "We assumed that the input data and the load profiles will be given in standard PGM format, therefore we expected users to have the input data as json file and load profile files as parquet files. From that, users can conveniently paste the paths of the file into our function."
   ]
  },
  {
   "cell_type": "code",
   "execution_count": 4,
   "id": "77249e50",
   "metadata": {},
   "outputs": [],
   "source": [
    "import numpy as np\n",
    "import pandas as pd\n",
    "import json\n",
    "import scipy\n",
    "\n",
    "from power_grid_model import (\n",
    "    LoadGenType,\n",
    "    PowerGridModel,\n",
    "    CalculationType,\n",
    "    CalculationMethod,\n",
    "    initialize_array\n",
    ")\n",
    "\n",
    "from power_grid_model.validation import (\n",
    "    assert_valid_input_data,\n",
    "    assert_valid_batch_data\n",
    ")\n",
    "\n",
    "from power_grid_model.utils import (\n",
    "    json_deserialize\n",
    ")"
   ]
  },
  {
   "cell_type": "markdown",
   "id": "049155b2",
   "metadata": {},
   "source": [
    "### **2.1 Input Data**\n",
    "* A power grid in PGM input format\n",
    "* A table containing active load profile of all the (`sym_load`) in the grid, with timestamps and load ids.\n",
    "* A table containing reactive load profile of all the (`sym_load`) in the grid, with timestamps and load ids.\n",
    "\n",
    "\n"
   ]
  },
  {
   "cell_type": "code",
   "execution_count": 6,
   "id": "93ef1ed5",
   "metadata": {},
   "outputs": [],
   "source": [
    "# Define file paths\n",
    "data_path = \"data/input_network_data.json\"\n",
    "active_load_profile_path = \"data/active_power_profile.parquet\"\n",
    "reactive_load_profile_path = \"data/reactive_power_profile.parquet\"\n",
    "\n",
    "# Load JSON data\n",
    "with open(data_path) as fp:\n",
    "    dataset = json.load(fp)\n",
    "\n",
    "# Load Parquet data\n",
    "active_load_profile = pd.read_parquet(active_load_profile_path)\n",
    "reactive_load_profile = pd.read_parquet(reactive_load_profile_path)"
   ]
  },
  {
   "cell_type": "markdown",
   "id": "27801a62",
   "metadata": {},
   "source": [
    "The `dataset` encompasses multiple tables that detail various components of the electrical grid, including nodes, lines, sources, and load details."
   ]
  },
  {
   "cell_type": "code",
   "execution_count": null,
   "id": "89e705f5",
   "metadata": {},
   "outputs": [],
   "source": [
    "node_data = dataset['data']['node']\n",
    "df_node_data = pd.DataFrame(node_data)\n",
    "display(df_node_data)\n",
    "\n",
    "line_data = dataset['data']['line']\n",
    "df_line_data = pd.DataFrame(line_data)\n",
    "display(df_line_data)\n",
    "\n",
    "sym_load_data = dataset['data']['sym_load']\n",
    "df_sym_load_data = pd.DataFrame(sym_load_data)\n",
    "display(df_sym_load_data)\n",
    "\n",
    "source_data = dataset['data']['source']\n",
    "df_source_data = pd.DataFrame(source_data)\n",
    "display(df_source_data)"
   ]
  },
  {
   "cell_type": "markdown",
   "id": "f77789e9",
   "metadata": {},
   "source": [
    "The `active_power_profile` and `reactive_power_profile` provide detailed timelines of power requirements for various loads, indicating the amount of power that needs to be supplied."
   ]
  },
  {
   "cell_type": "code",
   "execution_count": null,
   "id": "920706d0",
   "metadata": {},
   "outputs": [],
   "source": [
    "display(active_load_profile)\n",
    "display(reactive_load_profile)"
   ]
  },
  {
   "cell_type": "markdown",
   "id": "35c31764",
   "metadata": {},
   "source": [
    "### **2.2 Power Flow Results in Tables**\n",
    "\n",
    "A table with each row representing a timestamp, with the following columns:\n",
    "- Timestamp (index column)\n",
    "- Maximum p.u. voltage of all the nodes for this timestamp\n",
    "- The node ID with the maximum p.u. voltage\n",
    "- Minimum p.u. voltage of all the nodes for this timestamp\n",
    "- The node ID with the minimum p.u. voltage\n",
    "\n",
    "A table with each row representing a line, with the following columns:\n",
    "- Line ID (index column)\n",
    "- Energy loss of the line across the timeline in kWh\n",
    "- Maximum loading in p.u. of the line across the whole timeline\n",
    "- Timestamp of this maximum loading moment\n",
    "- Minimum loading in p.u. of the line across the whole timeline\n",
    "- Timestamp of this minimum loading moment"
   ]
  },
  {
   "cell_type": "code",
   "execution_count": null,
   "id": "05379396",
   "metadata": {},
   "outputs": [],
   "source": [
    "# Initialize the PowerGridModelling class\n",
    "pgm = PowerGridModelling(data_path, active_load_profile_path, reactive_load_profile_path)\n",
    "\n",
    "df_per_timestamp = pgm.data_per_timestamp()\n",
    "df_per_line = pgm.data_per_line()\n",
    "\n",
    "# Display the results\n",
    "print(\"\\nData Per Timestamp:\")\n",
    "display(df_per_timestamp.head())\n",
    "\n",
    "print(\"\\nData Per Line:\")\n",
    "display(df_per_line.head())\n",
    "# display(DataFrame(df_per_line.head()))"
   ]
  },
  {
   "cell_type": "markdown",
   "id": "81bc4b6b",
   "metadata": {},
   "source": [
    "## **3. Grid Analysis**\n",
    "In this part a package with some low voltage (LV) functions is presented. A LV grid with one transformer, one source and many `sym_load` representing houses is condiderd in this part."
   ]
  },
  {
   "cell_type": "markdown",
   "id": "202e31f2",
   "metadata": {},
   "source": [
    "### **3.1 input data**\n",
    "The class called `GridAnalysis` is used for this package, it takes these arguments:\n",
    "* Path of LV grid network data (`data_path`)\n",
    "* List of LV feeder IDs (`feeder_ids`)\n",
    "* Path of active load profile (`active_load_profile_path`)\n",
    "* Path of reactive load profile (`reactive_load_profile_path`)\n",
    "* Path of pool of EV charging profiles (`ev_pool_path`)\n",
    "\n",
    "The input data is loaded as follows:"
   ]
  },
  {
   "cell_type": "code",
   "execution_count": 11,
   "id": "29005f48",
   "metadata": {},
   "outputs": [
    {
     "name": "stdout",
     "output_type": "stream",
     "text": [
      "[803, 1204, 1205, 1206, 1207, 1208, 1209, 1210, 1211, 1212, 1213, 1214, 1215, 1216, 1217, 1218, 1219, 1220, 1221, 1222, 1223, 1224, 1225, 1226, 1227, 1228, 1229, 1230, 1231, 1232, 1233, 1234, 1235, 1236, 1237, 1238, 1239, 1240, 1241, 1242, 1243, 1244, 1245, 1246, 1247, 1248, 1249, 1250, 1251, 1252, 1253, 1254, 1255, 1256, 1257, 1258, 1259, 1260, 1261, 1262, 1263, 1264, 1265, 1266, 1267, 1268, 1269, 1270, 1271, 1272, 1273, 1274, 1275, 1276, 1277, 1278, 1279, 1280, 1281, 1282, 1283, 1284, 1285, 1286, 1287, 1288, 1289, 1290, 1291, 1292, 1293, 1294, 1295, 1296, 1297, 1298, 1299, 1300, 1301, 1302, 1303, 1304, 1305, 1306, 1307, 1308, 1309, 1310, 1311, 1312, 1313, 1314, 1315, 1316, 1317, 1318, 1319, 1320, 1321, 1322, 1323, 1324, 1325, 1326, 1327, 1328, 1329, 1330, 1331, 1332, 1333, 1334, 1335, 1336, 1337, 1338, 1339, 1340, 1341, 1342, 1343, 1344, 1345, 1346, 1347, 1348, 1349, 1350, 1351, 1352, 1353, 1354, 1355, 1356, 1357, 1358, 1359, 1360, 1361, 1362, 1363, 1364, 1365, 1366, 1367, 1368, 1369, 1370, 1371, 1372, 1373, 1374, 1375, 1376, 1377, 1378, 1379, 1380, 1381, 1382, 1383, 1384, 1385, 1386, 1387, 1388, 1389, 1390, 1391, 1392, 1393, 1394, 1395, 1396, 1397, 1398, 1399, 1400, 1401, 1402, 1403, 1404, 1405, 1406, 1407, 1408, 1409, 1410, 1411, 1412, 1413, 1414, 1415, 1416, 1417, 1418, 1419, 1420, 1421, 1422, 1423, 1424, 1425, 1426, 1427, 1428, 1429, 1430, 1431, 1432, 1433, 1434, 1435, 1436, 1437, 1438, 1439, 1440, 1441, 1442, 1443, 1444, 1445, 1446, 1447, 1448, 1449, 1450, 1451, 1452, 1453, 1454, 1455, 1456, 1457, 1458, 1459, 1460, 1461, 1462, 1463, 1464, 1465, 1466, 1467, 1468, 1469, 1470, 1471, 1472, 1473, 1474, 1475, 1476, 1477, 1478, 1479, 1480, 1481, 1482, 1483, 1484, 1485, 1486, 1487, 1488, 1489, 1490, 1491, 1492, 1493, 1494, 1495, 1496, 1497, 1498, 1499, 1500, 1501, 1502, 1503, 1504, 1505, 1506, 1507, 1508, 1509, 1510, 1511, 1512, 1513, 1514, 1515, 1516, 1517, 1518, 1519, 1520, 1521, 1522, 1523, 1524, 1525, 1526, 1527, 1528, 1529, 1530, 1531, 1532, 1533, 1534, 1535, 1536, 1537, 1538, 1539, 1540, 1541, 1542, 1543, 1544, 1545, 1546, 1547, 1548, 1549, 1550, 1551, 1552, 1553, 1554, 1555, 1556, 1557, 1558, 1559, 1560, 1561, 1562, 1563, 1564, 1565, 1566, 1567, 1568, 1569, 1570, 1571, 1572, 1573, 1574, 1575, 1576, 1577, 1578, 1579, 1580, 1581, 1582, 1583, 1584, 1585, 1586, 1587, 1588, 1589, 1590, 1591, 1592, 1593, 1594, 1595, 1596, 1597, 1598, 1599, 1600, 1601, 1602, 1603, 1604, 1605, 1606, 1607, 1608, 1609, 1610, 1611, 1612, 1613, 1614, 1615, 1616, 1617, 1618, 1619, 1620, 1621, 1622, 1623, 1624, 1625, 1626, 1627, 1628, 1629, 1630, 1631, 1632, 1633, 1634, 1635, 1636, 1637, 1638, 1639, 1640, 1641, 1642, 1643, 1644, 1645, 1646, 1647, 1648, 1649, 1650, 1651, 1652, 1653, 1654, 1655, 1656, 1657, 1658, 1659, 1660, 1661, 1662, 1663, 1664, 1665, 1666, 1667, 1668, 1669, 1670, 1671, 1672, 1673, 1674, 1675, 1676, 1677, 1678, 1679, 1680, 1681, 1682, 1683, 1684, 1685, 1686, 1687, 1688, 1689, 1690, 1691, 1692, 1693, 1694, 1695, 1696, 1697, 1698, 1699, 1700, 1701, 1702, 1703, 1704, 1705, 1706, 1707, 1708, 1709, 1710, 1711, 1712, 1713, 1714, 1715, 1716, 1717, 1718, 1719, 1720, 1721, 1722, 1723, 1724, 1725, 1726, 1727, 1728, 1729, 1730, 1731, 1732, 1733, 1734, 1735, 1736, 1737, 1738, 1739, 1740, 1741, 1742, 1743, 1744, 1745, 1746, 1747, 1748, 1749, 1750, 1751, 1752, 1753, 1754, 1755, 1756, 1757, 1758, 1759, 1760, 1761, 1762, 1763, 1764, 1765, 1766, 1767, 1768, 1769, 1770, 1771, 1772, 1773, 1774, 1775, 1776, 1777, 1778, 1779, 1780, 1781, 1782, 1783, 1784, 1785, 1786, 1787, 1788, 1789, 1790, 1791, 1792, 1793, 1794, 1795, 1796, 1797, 1798, 1799, 1800, 1801, 1802, 1803, 1804, 1805, 1806, 1807, 1808, 1809, 1810, 1811, 1812, 1813, 1814, 1815, 1816, 1817, 1818, 1819, 1820, 1821, 1822, 1823, 1824, 1825, 1826, 1827, 1828, 1829, 1830, 1831, 1832, 1833, 1834, 1835, 1836, 1837, 1838, 1839, 1840, 1841, 1842, 1843, 1844, 1845, 1846, 1847, 1848, 1849, 1850, 1851, 1852, 1853, 1854, 1855, 1856, 1857, 1858, 1859, 1860, 1861, 1862, 1863, 1864, 1865, 1866, 1867, 1868, 1869, 1870, 1871, 1872, 1873, 1874, 1875, 1876, 1877, 1878, 1879, 1880, 1881, 1882, 1883, 1884, 1885, 1886, 1887, 1888, 1889, 1890, 1891, 1892, 1893, 1894, 1895, 1896, 1897, 1898, 1899, 1900, 1901, 1902, 1903, 1904, 1905, 1906, 1907, 1908, 1909, 1910, 1911, 1912, 1913, 1914, 1915, 1916, 1917, 1918, 1919, 1920, 1921, 1922, 1923, 1924, 1925, 1926, 1927, 1928, 1929, 1930, 1931, 1932, 1933, 1934, 1935, 1936, 1937, 1938, 1939, 1940, 1941, 1942, 1943, 1944, 1945, 1946, 1947, 1948, 1949, 1950, 1951, 1952, 1953, 1954, 1955, 1956, 1957, 1958, 1959, 1960, 1961, 1962, 1963, 1964, 1965, 1966, 1967, 1968, 1969, 1970, 1971, 1972, 1973, 1974, 1975, 1976, 1977, 1978, 1979, 1980, 1981, 1982, 1983, 1984, 1985, 1986, 1987, 1988, 1989, 1990, 1991, 1992, 1993, 1994, 1995, 1996, 1997, 1998, 1999, 2000, 2001, 2002, 2003, 2004, 2005, 2006, 2007, 2008, 2009, 2010]\n",
      "[(0, 1), (1, 2), (2, 3), (2, 4), (4, 5), (4, 6), (6, 7), (6, 8), (8, 9), (8, 10), (10, 11), (10, 12), (12, 13), (12, 14), (14, 15), (14, 16), (16, 17), (16, 18), (18, 19), (18, 20), (20, 21), (20, 22), (22, 23), (22, 24), (24, 25), (24, 26), (26, 27), (26, 28), (28, 29), (28, 30), (30, 31), (30, 32), (32, 33), (32, 34), (34, 35), (34, 36), (36, 37), (36, 38), (38, 39), (38, 40), (40, 41), (40, 42), (42, 43), (42, 44), (44, 45), (44, 46), (46, 47), (46, 48), (48, 49), (48, 50), (50, 51), (50, 52), (52, 53), (52, 54), (54, 55), (54, 56), (56, 57), (56, 58), (58, 59), (58, 60), (60, 61), (60, 62), (62, 63), (62, 64), (64, 65), (64, 66), (66, 67), (66, 68), (68, 69), (68, 70), (70, 71), (70, 72), (72, 73), (72, 74), (74, 75), (74, 76), (76, 77), (76, 78), (78, 79), (78, 80), (80, 81), (80, 82), (82, 83), (82, 84), (84, 85), (84, 86), (86, 87), (86, 88), (88, 89), (88, 90), (90, 91), (90, 92), (92, 93), (92, 94), (94, 95), (94, 96), (96, 97), (96, 98), (98, 99), (98, 100), (100, 101), (1, 102), (102, 103), (102, 104), (104, 105), (104, 106), (106, 107), (106, 108), (108, 109), (108, 110), (110, 111), (110, 112), (112, 113), (112, 114), (114, 115), (114, 116), (116, 117), (116, 118), (118, 119), (118, 120), (120, 121), (120, 122), (122, 123), (122, 124), (124, 125), (124, 126), (126, 127), (126, 128), (128, 129), (128, 130), (130, 131), (130, 132), (132, 133), (132, 134), (134, 135), (134, 136), (136, 137), (136, 138), (138, 139), (138, 140), (140, 141), (140, 142), (142, 143), (142, 144), (144, 145), (144, 146), (146, 147), (146, 148), (148, 149), (148, 150), (150, 151), (150, 152), (152, 153), (152, 154), (154, 155), (154, 156), (156, 157), (156, 158), (158, 159), (158, 160), (160, 161), (160, 162), (162, 163), (162, 164), (164, 165), (164, 166), (166, 167), (166, 168), (168, 169), (168, 170), (170, 171), (170, 172), (172, 173), (172, 174), (174, 175), (174, 176), (176, 177), (176, 178), (178, 179), (178, 180), (180, 181), (180, 182), (182, 183), (182, 184), (184, 185), (184, 186), (186, 187), (186, 188), (188, 189), (188, 190), (190, 191), (190, 192), (192, 193), (192, 194), (194, 195), (194, 196), (196, 197), (196, 198), (198, 199), (198, 200), (200, 201), (1, 202), (202, 203), (202, 204), (204, 205), (204, 206), (206, 207), (206, 208), (208, 209), (208, 210), (210, 211), (210, 212), (212, 213), (212, 214), (214, 215), (214, 216), (216, 217), (216, 218), (218, 219), (218, 220), (220, 221), (220, 222), (222, 223), (222, 224), (224, 225), (224, 226), (226, 227), (226, 228), (228, 229), (228, 230), (230, 231), (230, 232), (232, 233), (232, 234), (234, 235), (234, 236), (236, 237), (236, 238), (238, 239), (238, 240), (240, 241), (240, 242), (242, 243), (242, 244), (244, 245), (244, 246), (246, 247), (246, 248), (248, 249), (248, 250), (250, 251), (250, 252), (252, 253), (252, 254), (254, 255), (254, 256), (256, 257), (256, 258), (258, 259), (258, 260), (260, 261), (260, 262), (262, 263), (262, 264), (264, 265), (264, 266), (266, 267), (266, 268), (268, 269), (268, 270), (270, 271), (270, 272), (272, 273), (272, 274), (274, 275), (274, 276), (276, 277), (276, 278), (278, 279), (278, 280), (280, 281), (280, 282), (282, 283), (282, 284), (284, 285), (284, 286), (286, 287), (286, 288), (288, 289), (288, 290), (290, 291), (290, 292), (292, 293), (292, 294), (294, 295), (294, 296), (296, 297), (296, 298), (298, 299), (298, 300), (300, 301), (1, 302), (302, 303), (302, 304), (304, 305), (304, 306), (306, 307), (306, 308), (308, 309), (308, 310), (310, 311), (310, 312), (312, 313), (312, 314), (314, 315), (314, 316), (316, 317), (316, 318), (318, 319), (318, 320), (320, 321), (320, 322), (322, 323), (322, 324), (324, 325), (324, 326), (326, 327), (326, 328), (328, 329), (328, 330), (330, 331), (330, 332), (332, 333), (332, 334), (334, 335), (334, 336), (336, 337), (336, 338), (338, 339), (338, 340), (340, 341), (340, 342), (342, 343), (342, 344), (344, 345), (344, 346), (346, 347), (346, 348), (348, 349), (348, 350), (350, 351), (350, 352), (352, 353), (352, 354), (354, 355), (354, 356), (356, 357), (356, 358), (358, 359), (358, 360), (360, 361), (360, 362), (362, 363), (362, 364), (364, 365), (364, 366), (366, 367), (366, 368), (368, 369), (368, 370), (370, 371), (370, 372), (372, 373), (372, 374), (374, 375), (374, 376), (376, 377), (376, 378), (378, 379), (378, 380), (380, 381), (380, 382), (382, 383), (382, 384), (384, 385), (384, 386), (386, 387), (386, 388), (388, 389), (388, 390), (390, 391), (390, 392), (392, 393), (392, 394), (394, 395), (394, 396), (396, 397), (396, 398), (398, 399), (398, 400), (400, 401), (1, 402), (402, 403), (402, 404), (404, 405), (404, 406), (406, 407), (406, 408), (408, 409), (408, 410), (410, 411), (410, 412), (412, 413), (412, 414), (414, 415), (414, 416), (416, 417), (416, 418), (418, 419), (418, 420), (420, 421), (420, 422), (422, 423), (422, 424), (424, 425), (424, 426), (426, 427), (426, 428), (428, 429), (428, 430), (430, 431), (430, 432), (432, 433), (432, 434), (434, 435), (434, 436), (436, 437), (436, 438), (438, 439), (438, 440), (440, 441), (440, 442), (442, 443), (442, 444), (444, 445), (444, 446), (446, 447), (446, 448), (448, 449), (448, 450), (450, 451), (450, 452), (452, 453), (452, 454), (454, 455), (454, 456), (456, 457), (456, 458), (458, 459), (458, 460), (460, 461), (460, 462), (462, 463), (462, 464), (464, 465), (464, 466), (466, 467), (466, 468), (468, 469), (468, 470), (470, 471), (470, 472), (472, 473), (472, 474), (474, 475), (474, 476), (476, 477), (476, 478), (478, 479), (478, 480), (480, 481), (480, 482), (482, 483), (482, 484), (484, 485), (484, 486), (486, 487), (486, 488), (488, 489), (488, 490), (490, 491), (490, 492), (492, 493), (492, 494), (494, 495), (494, 496), (496, 497), (496, 498), (498, 499), (498, 500), (500, 501), (1, 502), (502, 503), (502, 504), (504, 505), (504, 506), (506, 507), (506, 508), (508, 509), (508, 510), (510, 511), (510, 512), (512, 513), (512, 514), (514, 515), (514, 516), (516, 517), (516, 518), (518, 519), (518, 520), (520, 521), (520, 522), (522, 523), (522, 524), (524, 525), (524, 526), (526, 527), (526, 528), (528, 529), (528, 530), (530, 531), (530, 532), (532, 533), (532, 534), (534, 535), (534, 536), (536, 537), (536, 538), (538, 539), (538, 540), (540, 541), (540, 542), (542, 543), (542, 544), (544, 545), (544, 546), (546, 547), (546, 548), (548, 549), (548, 550), (550, 551), (550, 552), (552, 553), (552, 554), (554, 555), (554, 556), (556, 557), (556, 558), (558, 559), (558, 560), (560, 561), (560, 562), (562, 563), (562, 564), (564, 565), (564, 566), (566, 567), (566, 568), (568, 569), (568, 570), (570, 571), (570, 572), (572, 573), (572, 574), (574, 575), (574, 576), (576, 577), (576, 578), (578, 579), (578, 580), (580, 581), (580, 582), (582, 583), (582, 584), (584, 585), (584, 586), (586, 587), (586, 588), (588, 589), (588, 590), (590, 591), (590, 592), (592, 593), (592, 594), (594, 595), (594, 596), (596, 597), (596, 598), (598, 599), (598, 600), (600, 601), (1, 602), (602, 603), (602, 604), (604, 605), (604, 606), (606, 607), (606, 608), (608, 609), (608, 610), (610, 611), (610, 612), (612, 613), (612, 614), (614, 615), (614, 616), (616, 617), (616, 618), (618, 619), (618, 620), (620, 621), (620, 622), (622, 623), (622, 624), (624, 625), (624, 626), (626, 627), (626, 628), (628, 629), (628, 630), (630, 631), (630, 632), (632, 633), (632, 634), (634, 635), (634, 636), (636, 637), (636, 638), (638, 639), (638, 640), (640, 641), (640, 642), (642, 643), (642, 644), (644, 645), (644, 646), (646, 647), (646, 648), (648, 649), (648, 650), (650, 651), (650, 652), (652, 653), (652, 654), (654, 655), (654, 656), (656, 657), (656, 658), (658, 659), (658, 660), (660, 661), (660, 662), (662, 663), (662, 664), (664, 665), (664, 666), (666, 667), (666, 668), (668, 669), (668, 670), (670, 671), (670, 672), (672, 673), (672, 674), (674, 675), (674, 676), (676, 677), (676, 678), (678, 679), (678, 680), (680, 681), (680, 682), (682, 683), (682, 684), (684, 685), (684, 686), (686, 687), (686, 688), (688, 689), (688, 690), (690, 691), (690, 692), (692, 693), (692, 694), (694, 695), (694, 696), (696, 697), (696, 698), (698, 699), (698, 700), (700, 701), (1, 702), (702, 703), (702, 704), (704, 705), (704, 706), (706, 707), (706, 708), (708, 709), (708, 710), (710, 711), (710, 712), (712, 713), (712, 714), (714, 715), (714, 716), (716, 717), (716, 718), (718, 719), (718, 720), (720, 721), (720, 722), (722, 723), (722, 724), (724, 725), (724, 726), (726, 727), (726, 728), (728, 729), (728, 730), (730, 731), (730, 732), (732, 733), (732, 734), (734, 735), (734, 736), (736, 737), (736, 738), (738, 739), (738, 740), (740, 741), (740, 742), (742, 743), (742, 744), (744, 745), (744, 746), (746, 747), (746, 748), (748, 749), (748, 750), (750, 751), (750, 752), (752, 753), (752, 754), (754, 755), (754, 756), (756, 757), (756, 758), (758, 759), (758, 760), (760, 761), (760, 762), (762, 763), (762, 764), (764, 765), (764, 766), (766, 767), (766, 768), (768, 769), (768, 770), (770, 771), (770, 772), (772, 773), (772, 774), (774, 775), (774, 776), (776, 777), (776, 778), (778, 779), (778, 780), (780, 781), (780, 782), (782, 783), (782, 784), (784, 785), (784, 786), (786, 787), (786, 788), (788, 789), (788, 790), (790, 791), (790, 792), (792, 793), (792, 794), (794, 795), (794, 796), (796, 797), (796, 798), (798, 799), (798, 800), (800, 801), (100, 200), (200, 300), (300, 400), (400, 500), (500, 600), (600, 700), (700, 800)]\n",
      "[True, True, True, True, True, True, True, True, True, True, True, True, True, True, True, True, True, True, True, True, True, True, True, True, True, True, True, True, True, True, True, True, True, True, True, True, True, True, True, True, True, True, True, True, True, True, True, True, True, True, True, True, True, True, True, True, True, True, True, True, True, True, True, True, True, True, True, True, True, True, True, True, True, True, True, True, True, True, True, True, True, True, True, True, True, True, True, True, True, True, True, True, True, True, True, True, True, True, True, True, True, True, True, True, True, True, True, True, True, True, True, True, True, True, True, True, True, True, True, True, True, True, True, True, True, True, True, True, True, True, True, True, True, True, True, True, True, True, True, True, True, True, True, True, True, True, True, True, True, True, True, True, True, True, True, True, True, True, True, True, True, True, True, True, True, True, True, True, True, True, True, True, True, True, True, True, True, True, True, True, True, True, True, True, True, True, True, True, True, True, True, True, True, True, True, True, True, True, True, True, True, True, True, True, True, True, True, True, True, True, True, True, True, True, True, True, True, True, True, True, True, True, True, True, True, True, True, True, True, True, True, True, True, True, True, True, True, True, True, True, True, True, True, True, True, True, True, True, True, True, True, True, True, True, True, True, True, True, True, True, True, True, True, True, True, True, True, True, True, True, True, True, True, True, True, True, True, True, True, True, True, True, True, True, True, True, True, True, True, True, True, True, True, True, True, True, True, True, True, True, True, True, True, True, True, True, True, True, True, True, True, True, True, True, True, True, True, True, True, True, True, True, True, True, True, True, True, True, True, True, True, True, True, True, True, True, True, True, True, True, True, True, True, True, True, True, True, True, True, True, True, True, True, True, True, True, True, True, True, True, True, True, True, True, True, True, True, True, True, True, True, True, True, True, True, True, True, True, True, True, True, True, True, True, True, True, True, True, True, True, True, True, True, True, True, True, True, True, True, True, True, True, True, True, True, True, True, True, True, True, True, True, True, True, True, True, True, True, True, True, True, True, True, True, True, True, True, True, True, True, True, True, True, True, True, True, True, True, True, True, True, True, True, True, True, True, True, True, True, True, True, True, True, True, True, True, True, True, True, True, True, True, True, True, True, True, True, True, True, True, True, True, True, True, True, True, True, True, True, True, True, True, True, True, True, True, True, True, True, True, True, True, True, True, True, True, True, True, True, True, True, True, True, True, True, True, True, True, True, True, True, True, True, True, True, True, True, True, True, True, True, True, True, True, True, True, True, True, True, True, True, True, True, True, True, True, True, True, True, True, True, True, True, True, True, True, True, True, True, True, True, True, True, True, True, True, True, True, True, True, True, True, True, True, True, True, True, True, True, True, True, True, True, True, True, True, True, True, True, True, True, True, True, True, True, True, True, True, True, True, True, True, True, True, True, True, True, True, True, True, True, True, True, True, True, True, True, True, True, True, True, True, True, True, True, True, True, True, True, True, True, True, True, True, True, True, True, True, True, True, True, True, True, True, True, True, True, True, True, True, True, True, True, True, True, True, True, True, True, True, True, True, True, True, True, True, True, True, True, True, True, True, True, True, True, True, True, True, True, True, True, True, True, True, True, True, True, True, True, True, True, True, True, True, True, True, True, True, True, True, True, True, True, True, True, True, True, True, True, True, True, True, True, True, True, True, True, True, True, True, True, True, True, True, True, True, True, True, True, True, True, True, True, True, True, True, True, True, True, True, True, True, True, True, True, True, True, True, True, True, True, True, True, True, True, True, True, True, True, True, True, True, True, True, True, True, True, True, True, True, True, True, True, True, True, True, True, True, True, True, True, True, True, True, True, True, True, True, True, True, True, True, True, True, True, True, True, True, True, True, True, True, True, True, True, True, True, True, True, True, True, False, False, False, False, False, False, False]\n"
     ]
    }
   ],
   "source": [
    "data_path=\"data/big_network/input_network_data.json\"\n",
    "feeder_ids=[1204,1304,1404,1504,1604,1704,1804,1904]\n",
    "active_load_profile_path=\"data/big_network/active_power_profile.parquet\"\n",
    "reactive_load_profile_path=\"data/big_network/reactive_power_profile.parquet\"\n",
    "ev_pool_path=\"data/big_network/ev_active_power_profile.parquet\"\n",
    "\n",
    "data = [data_path, active_load_profile_path, reactive_load_profile_path, ev_pool_path]\n",
    "\n",
    "data = GridAnalysis(data, feeder_ids)"
   ]
  },
  {
   "cell_type": "markdown",
   "id": "6e2d6b0f",
   "metadata": {},
   "source": [
    "The input data is checked for the following validity criteria:\n",
    "\n",
    "1. checks done in this part:\n",
    "  * The LV grid has exactly one transformer, and one source.\n",
    "  * All IDs in the LV Feeder IDs are valid line IDs.\n",
    "  * All the lines in the LV Feeder IDs have the from_node the same as the to_node of the transformer.\n",
    "  * The timestamps are matching between the active load profile, reactive load profile, and EV charging profile.\n",
    "  * The number of EV charging profile is at least the same as the number of sym_load.\n",
    "\n",
    "2. checks done in first part:\n",
    "  * The grid is fully connected in the initial state.\n",
    "  * The grid has no cycles in the initial state.\n",
    "\n",
    "3. checks done in second part:\n",
    "  * The LV grid should be a valid PGM input data.\n",
    "  * The IDs in active load profile and reactive load profile are matching.\n",
    "  * The IDs in active load profile and reactive load profile are valid IDs of sym_load."
   ]
  },
  {
   "cell_type": "markdown",
   "id": "8ea99afc",
   "metadata": {},
   "source": [
    "### **3.2 EV penetration level**\n",
    "\n",
    "The EV penetration level function adds EV charging profiles to a percentage of houses which has EV charged at home (EV penetration level). The houses and charging profiles are chosen randomly. This is done as follows:\n",
    "\n",
    "1. The number of EVs per LV feeder are calculated using: `[penetration_level * total_houses / number_of_feeders]`\n",
    "2. The houses attached to each LV feeder are indentified using the function `find_downstream_vertices` from part 1\n",
    "3. For each LV feeder a random charging profile is added to the specified number of random houses\n",
    "4. The function `powerGridModeling` from part 2 is than called to get the new results"
   ]
  },
  {
   "cell_type": "code",
   "execution_count": null,
   "id": "eed9ed1f",
   "metadata": {},
   "outputs": [],
   "source": [
    "penetration_level = 0.2\n",
    "\n",
    "with Timer(\"EV penetration level\"):\n",
    "  df_result_per_timestamp, df_result_per_line = data.EV_penetration_level(penetration_level)\n",
    "\n",
    "print(\"u_pu per timestamp results:\")\n",
    "print(df_result_per_timestamp)\n",
    "print(\"loading per line results:\")\n",
    "print(df_result_per_line)"
   ]
  },
  {
   "cell_type": "markdown",
   "id": "391556c6",
   "metadata": {},
   "source": [
    "### **3.3 N-1 calculation**"
   ]
  },
  {
   "cell_type": "code",
   "execution_count": null,
   "id": "7030e199",
   "metadata": {},
   "outputs": [],
   "source": [
    "edge_id = 22\n",
    "\n",
    "with Timer(\"N-1 calculation\"):\n",
    "  result = data.alternative_grid_topology(edge_id=edge_id)\n",
    "\n",
    "print(result)\n",
    "# **1.Graph-Processing**\n"
   ]
  }
 ],
 "metadata": {
  "kernelspec": {
   "display_name": "Python 3 (ipykernel)",
   "language": "python",
   "name": "python3"
  },
  "language_info": {
   "codemirror_mode": {
    "name": "ipython",
    "version": 3
   },
   "file_extension": ".py",
   "mimetype": "text/x-python",
   "name": "python",
   "nbconvert_exporter": "python",
   "pygments_lexer": "ipython3",
   "version": "3.12.4"
  }
 },
 "nbformat": 4,
 "nbformat_minor": 5
}
