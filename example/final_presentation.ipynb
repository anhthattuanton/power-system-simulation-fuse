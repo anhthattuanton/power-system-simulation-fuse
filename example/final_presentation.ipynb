{
 "cells": [
  {
   "cell_type": "markdown",
   "id": "06d6296d-9187-4737-ab9b-b73bc0d521bc",
   "metadata": {},
   "source": [
    "# **Power System Simulation Final Presentation FUSE**\n",
    "\n",
    "## Introduction\n",
    "Welcome to the final presentation on Power System Simulation. In this presentation, we will cover the following packages:\n",
    "\n",
    "* `graph_processing.py`\n",
    "* `power_grid_modelling.py`\n",
    "* `grid_analytic.py`\n",
    "\n",
    "We have tested all the packages using `pytest` to ensure there are no errors and that the output is as expected.\n"
   ]
  },
  {
   "cell_type": "code",
   "execution_count": 1,
   "id": "b5b52833-9e5e-40c8-a268-43a2bc0c35a9",
   "metadata": {},
   "outputs": [
    {
     "name": "stdout",
     "output_type": "stream",
     "text": [
      "Hello world!\n"
     ]
    }
   ],
   "source": [
    "print(\"Hello world!\")"
   ]
  },
  {
   "cell_type": "markdown",
   "id": "421b42d5",
   "metadata": {},
   "source": [
    "hello"
   ]
  }
 ],
 "metadata": {
  "kernelspec": {
   "display_name": "Python 3 (ipykernel)",
   "language": "python",
   "name": "python3"
  },
  "language_info": {
   "codemirror_mode": {
    "name": "ipython",
    "version": 3
   },
   "file_extension": ".py",
   "mimetype": "text/x-python",
   "name": "python",
   "nbconvert_exporter": "python",
   "pygments_lexer": "ipython3",
   "version": "3.12.2"
  }
 },
 "nbformat": 4,
 "nbformat_minor": 5
}
