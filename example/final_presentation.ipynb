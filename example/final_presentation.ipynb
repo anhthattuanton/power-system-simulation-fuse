{
 "cells": [
  {
   "cell_type": "markdown",
   "id": "06d6296d-9187-4737-ab9b-b73bc0d521bc",
   "metadata": {},
   "source": [
    "# **Power System Simulation Final Presentation FUSE**\n",
    "\n",
    "## Introduction\n",
    "Welcome to the final presentation on Power System Simulation. In this presentation, we will cover the following packages:\n",
    "\n",
    "* `graph_processing.py`\n",
    "* `power_grid_modelling.py`\n",
    "* `grid_analytic.py`\n",
    "\n",
    "We have tested all the packages using `pytest` to ensure there are no errors and that the output is as expected. For performance checking, we will also run a timer to check how fast the package would run\n",
    "\n",
    "To be able to use the package, users must install the following dependencies (libraries):\n",
    "* `numpy`\n",
    "* `pandas`\n",
    "* `networkx`\n",
    "* `power-grid-model`\n",
    "* `math`\n",
    "* `random`"
   ]
  },
  {
   "cell_type": "code",
   "execution_count": 3,
   "id": "b5b52833-9e5e-40c8-a268-43a2bc0c35a9",
   "metadata": {},
   "outputs": [],
   "source": [
    "import time\n",
    "\n",
    "class Timer:\n",
    "    def __init__(self, name: str):\n",
    "        self.name = name\n",
    "        self.start = None\n",
    "\n",
    "    def __enter__(self):\n",
    "        self.start = time.perf_counter()\n",
    "\n",
    "    def __exit__(self, *args):\n",
    "        print(\n",
    "            f'Execution time for {self.name} is {(time.perf_counter() - self.start):0.6f} s'\n",
    "        )"
   ]
  },
  {
   "cell_type": "markdown",
   "id": "421b42d5",
   "metadata": {},
   "source": [
    "# **1.Graph-Processing**\n",
    "\n",
    "This section covers the functionalities and usage of the `graph_processing.py` package. The `graph_processing.py` package builds an undirected graph and implements two functionalties namely, `find_downstream_vertices()` and `find_alternative_edges()`.\n",
    "\n",
    "## **1.1 Input data**\n",
    "\n",
    "To create a graph the following parameters need to be defined:\n",
    "* `edge_ids`\n",
    "* `edge_vertex_id_pairs`\n",
    "* `edge_enabled`\n",
    "* `source_vertex_id`\n",
    "\n",
    "From that, the graph processing package can be called as follow.\n"
   ]
  },
  {
   "cell_type": "code",
   "execution_count": 4,
   "id": "b7e1a2ec",
   "metadata": {},
   "outputs": [],
   "source": [
    "from power_system_simulation.graph_processing import GraphProcessor"
   ]
  },
  {
   "cell_type": "markdown",
   "id": "203f849f",
   "metadata": {},
   "source": [
    "For example, assume you have a network that is built as described below:"
   ]
  },
  {
   "cell_type": "markdown",
   "id": "cf261d95",
   "metadata": {},
   "source": [
    "      ------- edge_1---- vertex_0 ------ edge_5 -----\n",
    "      |                    |                       |\n",
    "      |                  edge_3                    |\n",
    "      |                    |                       |\n",
    "    vertex_2 -- edge_7 -- vertex_4  -- edge_8 --vertex_6\n",
    "      |\n",
    "    edge_9\n",
    "      |\n",
    "    vertex_10  "
   ]
  },
  {
   "cell_type": "markdown",
   "id": "d10fa3ea",
   "metadata": {},
   "source": [
    "If only the enabled edges are taken into account, the network would look like this:"
   ]
  },
  {
   "cell_type": "markdown",
   "id": "e7c4ca29",
   "metadata": {},
   "source": [
    "      ------- edge_1---- vertex_0 ------ edge_5 -----\n",
    "      |                    |                       |\n",
    "      |                  edge_3                    |\n",
    "      |                    |                       |\n",
    "    vertex_2            vertex_4                vertex_6\n",
    "      |\n",
    "    edge_9\n",
    "      |\n",
    "    vertex_10  "
   ]
  },
  {
   "cell_type": "markdown",
   "id": "d9a069db",
   "metadata": {},
   "source": [
    "To use the graph_processing package for this network, you can extract the corresponding data and input it to the function as follow:"
   ]
  },
  {
   "cell_type": "code",
   "execution_count": 8,
   "id": "4ac6d082",
   "metadata": {},
   "outputs": [],
   "source": [
    "edge_ids = [1, 3, 5, 7, 8, 9]\n",
    "edge_vertex_id = [(0, 2), (0, 4), (0, 6), (2, 4), (4, 6), (2, 10)]\n",
    "edge_enabled = [True, True, True, False, False, True]\n",
    "source_id = 0\n",
    "\n",
    "result = GraphProcessor(\n",
    "    edge_ids=edge_ids,\n",
    "    edge_vertex_id_pairs=edge_vertex_id,\n",
    "    edge_enabled=edge_enabled,\n",
    "    source_vertex_id=source_id,\n",
    ")"
   ]
  }
 ],
 "metadata": {
  "kernelspec": {
   "display_name": "Python 3 (ipykernel)",
   "language": "python",
   "name": "python3"
  },
  "language_info": {
   "codemirror_mode": {
    "name": "ipython",
    "version": 3
   },
   "file_extension": ".py",
   "mimetype": "text/x-python",
   "name": "python",
   "nbconvert_exporter": "python",
   "pygments_lexer": "ipython3",
   "version": "3.12.3"
  }
 },
 "nbformat": 4,
 "nbformat_minor": 5
}
