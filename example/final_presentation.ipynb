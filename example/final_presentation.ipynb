{
 "cells": [
  {
   "cell_type": "markdown",
   "id": "06d6296d-9187-4737-ab9b-b73bc0d521bc",
   "metadata": {},
   "source": [
    "# **Power System Simulation Final Presentation FUSE**\n",
    "\n",
    "## Introduction\n",
    "Welcome to the final presentation on Power System Simulation. In this presentation, we will cover the following packages:\n",
    "\n",
    "* `graph_processing.py`\n",
    "* `power_grid_modelling.py`\n",
    "* `grid_analytic.py`\n",
    "\n",
    "We have tested all the packages using `pytest` to ensure there are no errors and that the output is as expected. For performance checking, we will also run a timer to check how fast the package would run\n",
    "\n",
    "To be able to use the package, users must install the following dependencies (libraries):\n",
    "* `numpy`\n",
    "* `pandas`\n",
    "* `networkx`\n",
    "* `power-grid-model`\n",
    "* `math`\n",
    "* `random`"
   ]
  },
  {
   "cell_type": "code",
   "execution_count": 3,
   "id": "b5b52833-9e5e-40c8-a268-43a2bc0c35a9",
   "metadata": {},
   "outputs": [],
   "source": [
    "import time\n",
    "\n",
    "from power_system_simulation.graph_processing import GraphProcessor\n",
    "from power_system_simulation.power_grid_modelling import PowerGridModelling\n",
    "from power_system_simulation.grid_analytic import GridAnalysis\n",
    "\n",
    "class Timer:\n",
    "    def __init__(self, name: str):\n",
    "        self.name = name\n",
    "        self.start = None\n",
    "\n",
    "    def __enter__(self):\n",
    "        self.start = time.perf_counter()\n",
    "\n",
    "    def __exit__(self, *args):\n",
    "        print(\n",
    "            f'Execution time for {self.name} is {(time.perf_counter() - self.start):0.6f} s'\n",
    "        )"
   ]
  },
  {
   "cell_type": "markdown",
   "id": "81bc4b6b",
   "metadata": {},
   "source": [
    "## **3. Grid Analysis**\n",
    "In this part a package with some low voltage (LV) functions is presented. A LV grid with one transformer, one source and many `sym_load` representing houses is condiderd in this part."
   ]
  },
  {
   "cell_type": "markdown",
   "id": "202e31f2",
   "metadata": {},
   "source": [
    "## **3.1 input data**\n",
    "The class called `GridAnalysis` is used for this package, it takes these arguments:\n",
    "* Path of LV grid network data (`data_path`)\n",
    "* List of LV feeder IDs (`feeder_ids`)\n",
    "* Path of active load profile (`active_load_profile_path`)\n",
    "* Path of reactive load profile (`reactive_load_profile_path`)\n",
    "* Path of pool of EV charging profiles (`ev_pool_path`)\n",
    "\n",
    "The input data is loaded as follows:"
   ]
  },
  {
   "cell_type": "code",
   "execution_count": 4,
   "id": "29005f48",
   "metadata": {},
   "outputs": [
    {
     "ename": "TypeError",
     "evalue": "GridAnalysis.__init__() got an unexpected keyword argument 'data_path'",
     "output_type": "error",
     "traceback": [
      "\u001b[1;31m---------------------------------------------------------------------------\u001b[0m",
      "\u001b[1;31mTypeError\u001b[0m                                 Traceback (most recent call last)",
      "Cell \u001b[1;32mIn[4], line 1\u001b[0m\n\u001b[1;32m----> 1\u001b[0m data \u001b[38;5;241m=\u001b[39m \u001b[43mGridAnalysis\u001b[49m\u001b[43m(\u001b[49m\n\u001b[0;32m      2\u001b[0m \u001b[43m          \u001b[49m\u001b[43mdata_path\u001b[49m\u001b[38;5;241;43m=\u001b[39;49m\u001b[38;5;124;43m'\u001b[39;49m\u001b[38;5;124;43m/content/data_ass3/input_network_data.json\u001b[39;49m\u001b[38;5;124;43m'\u001b[39;49m\u001b[43m,\u001b[49m\n\u001b[0;32m      3\u001b[0m \u001b[43m          \u001b[49m\u001b[43mfeeder_ids\u001b[49m\u001b[38;5;241;43m=\u001b[39;49m\u001b[43m[\u001b[49m\u001b[38;5;241;43m1204\u001b[39;49m\u001b[43m,\u001b[49m\u001b[38;5;241;43m1304\u001b[39;49m\u001b[43m,\u001b[49m\u001b[38;5;241;43m1404\u001b[39;49m\u001b[43m,\u001b[49m\u001b[38;5;241;43m1504\u001b[39;49m\u001b[43m,\u001b[49m\u001b[38;5;241;43m1604\u001b[39;49m\u001b[43m,\u001b[49m\u001b[38;5;241;43m1704\u001b[39;49m\u001b[43m,\u001b[49m\u001b[38;5;241;43m1804\u001b[39;49m\u001b[43m,\u001b[49m\u001b[38;5;241;43m1904\u001b[39;49m\u001b[43m]\u001b[49m\u001b[43m,\u001b[49m\n\u001b[0;32m      4\u001b[0m \u001b[43m          \u001b[49m\u001b[43mactive_load_profile_path\u001b[49m\u001b[38;5;241;43m=\u001b[39;49m\u001b[38;5;124;43m'\u001b[39;49m\u001b[38;5;124;43m/content/data_ass3/active_power_profile.parquet\u001b[39;49m\u001b[38;5;124;43m'\u001b[39;49m\u001b[43m,\u001b[49m\n\u001b[0;32m      5\u001b[0m \u001b[43m          \u001b[49m\u001b[43mreactive_load_profile_path\u001b[49m\u001b[38;5;241;43m=\u001b[39;49m\u001b[38;5;124;43m'\u001b[39;49m\u001b[38;5;124;43m/content/data_ass3/reactive_power_profile.parquet\u001b[39;49m\u001b[38;5;124;43m'\u001b[39;49m\u001b[43m,\u001b[49m\n\u001b[0;32m      6\u001b[0m \u001b[43m          \u001b[49m\u001b[43mev_pool_path\u001b[49m\u001b[38;5;241;43m=\u001b[39;49m\u001b[38;5;124;43m'\u001b[39;49m\u001b[38;5;124;43m/content/data_ass3/ev_active_power_profile.parquet\u001b[39;49m\u001b[38;5;124;43m'\u001b[39;49m\u001b[43m,\u001b[49m\n\u001b[0;32m      7\u001b[0m \u001b[43m      \u001b[49m\u001b[43m)\u001b[49m\n",
      "\u001b[1;31mTypeError\u001b[0m: GridAnalysis.__init__() got an unexpected keyword argument 'data_path'"
     ]
    }
   ],
   "source": [
    "data = GridAnalysis(\n",
    "          data_path='/content/data_ass3/input_network_data.json',\n",
    "          feeder_ids=[1204,1304,1404,1504,1604,1704,1804,1904],\n",
    "          active_load_profile_path='/content/data_ass3/active_power_profile.parquet',\n",
    "          reactive_load_profile_path='/content/data_ass3/reactive_power_profile.parquet',\n",
    "          ev_pool_path='/content/data_ass3/ev_active_power_profile.parquet',\n",
    "      )"
   ]
  },
  {
   "cell_type": "markdown",
   "id": "6e2d6b0f",
   "metadata": {},
   "source": [
    "The input data is checked for the following validity criteria:\n",
    "\n",
    "1. checks done in this part:\n",
    "  * The LV grid has exactly one transformer, and one source.\n",
    "  * All IDs in the LV Feeder IDs are valid line IDs.\n",
    "  * All the lines in the LV Feeder IDs have the from_node the same as the to_node of the transformer.\n",
    "  * The timestamps are matching between the active load profile, reactive load profile, and EV charging profile.\n",
    "  * The number of EV charging profile is at least the same as the number of sym_load.\n",
    "\n",
    "2. checks done in first part:\n",
    "  * The grid is fully connected in the initial state.\n",
    "  * The grid has no cycles in the initial state.\n",
    "\n",
    "3. checks done in second part:\n",
    "  * The LV grid should be a valid PGM input data.\n",
    "  * The IDs in active load profile and reactive load profile are matching.\n",
    "  * The IDs in active load profile and reactive load profile are valid IDs of sym_load."
   ]
  },
  {
   "cell_type": "markdown",
   "id": "8ea99afc",
   "metadata": {},
   "source": [
    "## **3.2 EV penetration level**\n",
    "\n",
    "The EV penetration level function adds EV charging profiles to a percentage of houses which has EV charged at home (EV penetration level). The houses and charging profiles are chosen randomly. This is done as follows:\n",
    "\n",
    "1. The number of EVs per LV feeder are calculated using: `[penetration_level * total_houses / number_of_feeders]`\n",
    "2. The houses attached to each LV feeder are indentified using the function `find_downstream_vertices` from part 1\n",
    "3. For each LV feeder a random charging profile is added to the specified number of random houses\n",
    "4. The function `powerGridModeling` from part 2 is than called to get the new results"
   ]
  },
  {
   "cell_type": "code",
   "execution_count": null,
   "id": "eed9ed1f",
   "metadata": {},
   "outputs": [],
   "source": [
    "penetration_level = 0.2\n",
    "\n",
    "with Timer(\"EV penetration level\"):\n",
    "  df_result_per_timestamp, df_result_per_line = data.EV_penetration_level(penetration_level)\n",
    "\n",
    "print(\"u_pu per timestamp results:\")\n",
    "print(df_result_per_timestamp)\n",
    "print(\"loading per line results:\")\n",
    "print(df_result_per_line)"
   ]
  },
  {
   "cell_type": "markdown",
   "id": "391556c6",
   "metadata": {},
   "source": [
    "## **3.3 N-1 calculation**"
   ]
  },
  {
   "cell_type": "code",
   "execution_count": null,
   "id": "7030e199",
   "metadata": {},
   "outputs": [],
   "source": [
    "edge_id = 22\n",
    "\n",
    "with Timer(\"N-1 calculation\"):\n",
    "  result = data.alternative_grid_topology(edge_id=edge_id)\n",
    "\n",
    "print(result)"
    "# **1.Graph-Processing**\n",
    "\n",
    "This section covers the functionalities and usage of the `graph_processing.py` package. The `graph_processing.py` package builds an undirected graph and implements two functionalties namely, `find_downstream_vertices()` and `find_alternative_edges()`.\n",
    "\n",
    "## **1.1 Input data**\n",
    "\n",
    "To create a graph the following parameters need to be defined:\n",
    "* `edge_ids`\n",
    "* `edge_vertex_id_pairs`\n",
    "* `edge_enabled`\n",
    "* `source_vertex_id`\n",
    "\n",
    "From that, the graph processing package can be called as follow.\n"
   ]
  },
  {
   "cell_type": "code",
   "execution_count": 4,
   "id": "b7e1a2ec",
   "metadata": {},
   "outputs": [],
   "source": [
    "from power_system_simulation.graph_processing import GraphProcessor"
   ]
  },
  {
   "cell_type": "markdown",
   "id": "203f849f",
   "metadata": {},
   "source": [
    "For example, assume you have a network that is built as described below:"
   ]
  },
  {
   "cell_type": "markdown",
   "id": "cf261d95",
   "metadata": {},
   "source": [
    "      ------- edge_1---- vertex_0 ------ edge_5 -----\n",
    "      |                    |                       |\n",
    "      |                  edge_3                    |\n",
    "      |                    |                       |\n",
    "    vertex_2 -- edge_7 -- vertex_4  -- edge_8 --vertex_6\n",
    "      |\n",
    "    edge_9\n",
    "      |\n",
    "    vertex_10  "
   ]
  },
  {
   "cell_type": "markdown",
   "id": "d10fa3ea",
   "metadata": {},
   "source": [
    "If only the enabled edges are taken into account, the network would look like this:"
   ]
  },
  {
   "cell_type": "markdown",
   "id": "e7c4ca29",
   "metadata": {},
   "source": [
    "      ------- edge_1---- vertex_0 ------ edge_5 -----\n",
    "      |                    |                       |\n",
    "      |                  edge_3                    |\n",
    "      |                    |                       |\n",
    "    vertex_2            vertex_4                vertex_6\n",
    "      |\n",
    "    edge_9\n",
    "      |\n",
    "    vertex_10  "
   ]
  },
  {
   "cell_type": "markdown",
   "id": "d9a069db",
   "metadata": {},
   "source": [
    "To use the graph_processing package for this network, you can extract the corresponding data and input it to the function as follow:"
   ]
  },
  {
   "cell_type": "code",
   "execution_count": 8,
   "id": "4ac6d082",
   "metadata": {},
   "outputs": [],
   "source": [
    "edge_ids = [1, 3, 5, 7, 8, 9]\n",
    "edge_vertex_id = [(0, 2), (0, 4), (0, 6), (2, 4), (4, 6), (2, 10)]\n",
    "edge_enabled = [True, True, True, False, False, True]\n",
    "source_id = 0\n",
    "\n",
    "result = GraphProcessor(\n",
    "    edge_ids=edge_ids,\n",
    "    edge_vertex_id_pairs=edge_vertex_id,\n",
    "    edge_enabled=edge_enabled,\n",
    "    source_vertex_id=source_id,\n",
    ")"
   ]
  }
 ],
 "metadata": {
  "kernelspec": {
   "display_name": "Python 3 (ipykernel)",
   "language": "python",
   "name": "python3"
  },
  "language_info": {
   "codemirror_mode": {
    "name": "ipython",
    "version": 3
   },
   "file_extension": ".py",
   "mimetype": "text/x-python",
   "name": "python",
   "nbconvert_exporter": "python",
   "pygments_lexer": "ipython3",
   "version": "3.12.4"
  }
 },
 "nbformat": 4,
 "nbformat_minor": 5
}
