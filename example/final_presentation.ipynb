{
 "cells": [
  {
   "cell_type": "markdown",
   "id": "06d6296d-9187-4737-ab9b-b73bc0d521bc",
   "metadata": {
    "jp-MarkdownHeadingCollapsed": true
   },
   "source": [
    "# **Power System Simulation Final Presentation FUSE**\n",
    "\n",
    "## **Introduction**\n",
    "Welcome to the final presentation on Power System Simulation. In this presentation, we will cover the following packages:\n",
    "\n",
    "`graph_processing.py`\n",
    "- Initialization and validation\n",
    "- Find downstream vertices\n",
    "- Find alternatie edges\n",
    "\n",
    "`power_grid_modelling.py`\n",
    "- Handle PGM input format\n",
    "- Aggregate power flow results in tables\n",
    "- Show tables\n",
    "\n",
    "\n",
    "`grid_analytic.py`\n",
    "- Calculate EV penetration levels\n",
    "- Calculate optimal tap positions\n",
    "- Do N-1 calculations\n",
    "\n",
    "We have tested all the packages using `pytest` to ensure there are no errors and that the output is as expected. For performance checking, we will also run a timer to check how fast the package would run.\n",
    "\n",
    "To be able to use the package, users must install the following dependencies (libraries):\n",
    "* `numpy`\n",
    "* `pandas`\n",
    "* `networkx`\n",
    "* `power-grid-model`\n",
    "* `math`\n",
    "* `random`"
   ]
  },
  {
   "cell_type": "code",
   "execution_count": 1,
   "id": "b5b52833-9e5e-40c8-a268-43a2bc0c35a9",
   "metadata": {},
   "outputs": [],
   "source": [
    "# Create a timer class\n",
    "import time\n",
    "\n",
    "class Timer:\n",
    "    def __init__(self, name: str):\n",
    "        self.name = name\n",
    "        self.start = None\n",
    "\n",
    "    def __enter__(self):\n",
    "        self.start = time.perf_counter()\n",
    "\n",
    "    def __exit__(self, *args):\n",
    "        print(\n",
    "            f'Execution time for {self.name} is {(time.perf_counter() - self.start):0.6f} s'\n",
    "        )"
   ]
  },
  {
   "cell_type": "code",
   "execution_count": 8,
   "id": "d9c1455e",
   "metadata": {},
   "outputs": [],
   "source": [
    "# Importing all functions from the package\n",
    "from power_system_simulation.graph_processing import GraphProcessor\n",
    "from power_system_simulation.power_grid_modelling import PowerGridModelling\n",
    "from power_system_simulation.grid_analytic import GridAnalysis"
   ]
  },
  {
   "cell_type": "markdown",
   "id": "fb0ee5c6",
   "metadata": {},
   "source": [
    "# **1.Graph-Processing**\n",
    "\n",
    "This section covers the functionalities and usage of the `graph_processing.py` package. The `graph_processing.py` package builds an undirected graph and implements two functionalties namely, `find_downstream_vertices()` and `find_alternative_edges()`.\n",
    "This section covers the functionalities and usage of the `graph_processing.py` package. The `graph_processing.py` package builds an undirected graph and implements two functionalties namely, `find_downstream_vertices()` and `find_alternative_edges()`.\n",
    "\n",
    "## **1.1 Input data**\n",
    "\n",
    "To create a graph the following parameters need to be defined:\n",
    "* `edge_ids`\n",
    "* `edge_vertex_id_pairs`\n",
    "* `edge_enabled`\n",
    "* `source_vertex_id`\n",
    "\n",
    "For example, we have a network created as follow:"
   ]
  },
  {
   "cell_type": "markdown",
   "id": "0cfdb876",
   "metadata": {},
   "source": [
    "      ------- edge_1---- source_0 ------ edge_5 -----\n",
    "      |                    |                       |\n",
    "      |                  edge_3                    |\n",
    "      |                    |                       |\n",
    "    vertex_2 -- edge_7 -- vertex_4  -- edge_8 --vertex_6\n",
    "      |\n",
    "    edge_9\n",
    "      |\n",
    "    vertex_10  "
   ]
  },
  {
   "cell_type": "markdown",
   "id": "193abd6f",
   "metadata": {},
   "source": [
    "If we only take into account the enabled edges:"
   ]
  },
  {
   "cell_type": "markdown",
   "id": "2406e05e",
   "metadata": {},
   "source": [
    "      ------- edge_1---- source_0 ------ edge_5 -----\n",
    "      |                    |                       |\n",
    "      |                  edge_3                    |\n",
    "      |                    |                       |\n",
    "    vertex_2            vertex_4                vertex_6\n",
    "      |\n",
    "    edge_9\n",
    "      |\n",
    "    vertex_10  "
   ]
  },
  {
   "cell_type": "code",
   "execution_count": 4,
   "id": "6b27bab5",
   "metadata": {},
   "outputs": [],
   "source": [
    "# Create input data\n",
    "# List of edge IDs.    \n",
    "edge_ids = [1, 3, 5, 7, 8, 9]\n",
    "# Tuples representing connections between vertices, defining the graph's edges.\n",
    "edge_vertex_id = [(0, 2), (0, 4), (0, 6), (2, 4), (4, 6), (2, 10)]\n",
    "# List indicating whether each edge is enabled or disabled.\n",
    "edge_enabled = [True, True, True, False, False, True]\n",
    "# ID of the vertex that is also a source.\n",
    "source_id = 0\n",
    "\n",
    "# Calling the class\n",
    "result = GraphProcessor(\n",
    "    edge_ids=edge_ids,\n",
    "    edge_vertex_id_pairs=edge_vertex_id,\n",
    "    edge_enabled=edge_enabled,\n",
    "    source_vertex_id=source_id,\n",
    ")"
   ]
  },
  {
   "cell_type": "markdown",
   "id": "a2f84af3",
   "metadata": {},
   "source": [
    "If we want to know what is the downstream vertices at a given edge (for example edge 1) with respect to the source:"
   ]
  },
  {
   "cell_type": "code",
   "execution_count": 5,
   "id": "d94ef800",
   "metadata": {},
   "outputs": [
    {
     "name": "stdout",
     "output_type": "stream",
     "text": [
      "[2, 10]\n"
     ]
    }
   ],
   "source": [
    "downstream_vertices = result.find_downstream_vertices(edge_id= 1)\n",
    "print(downstream_vertices)"
   ]
  },
  {
   "cell_type": "markdown",
   "id": "9d6270dd",
   "metadata": {},
   "source": [
    "## **2 Power Grid Modelling Package**\n",
    "In this assignment, we used the `power_grid_model` package as our core package for calculations."
   ]
  },
  {
   "cell_type": "markdown",
   "id": "1867b316",
   "metadata": {},
   "source": [
    "We also used `pandas` and `numpy` for dataframes and ndarrays related functionality. For coherence with previous assignment, we also created a class called PowerGridModelling, along with some expected errors.\n",
    "We assumed that the input data and the load profiles will be given in standard PGM format, therefore we expected users to have the input data as json file and load profile files as parquet files. From that, users can conveniently paste the paths of the file into our function."
   ]
  },
  {
   "cell_type": "code",
   "execution_count": 4,
   "id": "77249e50",
   "metadata": {},
   "outputs": [],
   "source": [
    "import numpy as np\n",
    "import pandas as pd\n",
    "import json\n",
    "import scipy\n",
    "\n",
    "from power_grid_model import (\n",
    "    LoadGenType,\n",
    "    PowerGridModel,\n",
    "    CalculationType,\n",
    "    CalculationMethod,\n",
    "    initialize_array\n",
    ")\n",
    "\n",
    "from power_grid_model.validation import (\n",
    "    assert_valid_input_data,\n",
    "    assert_valid_batch_data\n",
    ")\n",
    "\n",
    "from power_grid_model.utils import (\n",
    "    json_deserialize\n",
    ")"
   ]
  },
  {
   "cell_type": "markdown",
   "id": "049155b2",
   "metadata": {},
   "source": [
    "### **2.1 Input Data**\n",
    "* A power grid in PGM input format\n",
    "* A table containing active load profile of all the (`sym_load`) in the grid, with timestamps and load ids.\n",
    "* A table containing reactive load profile of all the (`sym_load`) in the grid, with timestamps and load ids.\n",
    "\n",
    "\n"
   ]
  },
  {
   "cell_type": "code",
   "execution_count": 6,
   "id": "93ef1ed5",
   "metadata": {},
   "outputs": [],
   "source": [
    "# Define file paths\n",
    "data_path = \"data/input_network_data.json\"\n",
    "active_load_profile_path = \"data/active_power_profile.parquet\"\n",
    "reactive_load_profile_path = \"data/reactive_power_profile.parquet\"\n",
    "\n",
    "# Load JSON data\n",
    "with open(data_path) as fp:\n",
    "    dataset = json.load(fp)\n",
    "\n",
    "# Load Parquet data\n",
    "active_load_profile = pd.read_parquet(active_load_profile_path)\n",
    "reactive_load_profile = pd.read_parquet(reactive_load_profile_path)"
   ]
  },
  {
   "cell_type": "markdown",
   "id": "27801a62",
   "metadata": {},
   "source": [
    "The `dataset` encompasses multiple tables that detail various components of the electrical grid, including nodes, lines, sources, and load details."
   ]
  },
  {
   "cell_type": "code",
   "execution_count": null,
   "id": "89e705f5",
   "metadata": {},
   "outputs": [],
   "source": [
    "node_data = dataset['data']['node']\n",
    "df_node_data = pd.DataFrame(node_data)\n",
    "display(df_node_data)\n",
    "\n",
    "line_data = dataset['data']['line']\n",
    "df_line_data = pd.DataFrame(line_data)\n",
    "display(df_line_data)\n",
    "\n",
    "sym_load_data = dataset['data']['sym_load']\n",
    "df_sym_load_data = pd.DataFrame(sym_load_data)\n",
    "display(df_sym_load_data)\n",
    "\n",
    "source_data = dataset['data']['source']\n",
    "df_source_data = pd.DataFrame(source_data)\n",
    "display(df_source_data)"
   ]
  },
  {
   "cell_type": "markdown",
   "id": "f77789e9",
   "metadata": {},
   "source": [
    "The `active_power_profile` and `reactive_power_profile` provide detailed timelines of power requirements for various loads, indicating the amount of power that needs to be supplied."
   ]
  },
  {
   "cell_type": "code",
   "execution_count": null,
   "id": "920706d0",
   "metadata": {},
   "outputs": [],
   "source": [
    "display(active_load_profile)\n",
    "display(reactive_load_profile)"
   ]
  },
  {
   "cell_type": "markdown",
   "id": "35c31764",
   "metadata": {},
   "source": [
    "### **2.2 Power Flow Results in Tables**\n",
    "\n",
    "A table with each row representing a timestamp, with the following columns:\n",
    "- Timestamp (index column)\n",
    "- Maximum p.u. voltage of all the nodes for this timestamp\n",
    "- The node ID with the maximum p.u. voltage\n",
    "- Minimum p.u. voltage of all the nodes for this timestamp\n",
    "- The node ID with the minimum p.u. voltage\n",
    "\n",
    "A table with each row representing a line, with the following columns:\n",
    "- Line ID (index column)\n",
    "- Energy loss of the line across the timeline in kWh\n",
    "- Maximum loading in p.u. of the line across the whole timeline\n",
    "- Timestamp of this maximum loading moment\n",
    "- Minimum loading in p.u. of the line across the whole timeline\n",
    "- Timestamp of this minimum loading moment"
   ]
  },
  {
   "cell_type": "code",
   "execution_count": null,
   "id": "05379396",
   "metadata": {},
   "outputs": [],
   "source": [
    "# Initialize the PowerGridModelling class\n",
    "pgm = PowerGridModelling(data_path, active_load_profile_path, reactive_load_profile_path)\n",
    "\n",
    "df_per_timestamp = pgm.data_per_timestamp()\n",
    "df_per_line = pgm.data_per_line()\n",
    "\n",
    "# Display the results\n",
    "print(\"\\nData Per Timestamp:\")\n",
    "display(df_per_timestamp.head())\n",
    "\n",
    "print(\"\\nData Per Line:\")\n",
    "display(df_per_line.head())\n",
    "# display(DataFrame(df_per_line.head()))"
   ]
  },
  {
   "cell_type": "markdown",
   "id": "81bc4b6b",
   "metadata": {},
   "source": [
    "## **3. Grid Analysis**\n",
    "In this part a package with some low voltage (LV) functions is presented. A LV grid with one transformer, one source and many `sym_load` representing houses is condiderd in this part."
   ]
  },
  {
   "cell_type": "markdown",
   "id": "202e31f2",
   "metadata": {},
   "source": [
    "### **3.1 input data**\n",
    "The class called `GridAnalysis` is used for this package, it takes these arguments:\n",
    "* Path of LV grid network data (`data_path`)\n",
    "* List of LV feeder IDs (`feeder_ids`)\n",
    "* Path of active load profile (`active_load_profile_path`)\n",
    "* Path of reactive load profile (`reactive_load_profile_path`)\n",
    "* Path of pool of EV charging profiles (`ev_pool_path`)\n",
    "\n",
    "The input data is loaded as follows:"
   ]
  },
  {
   "cell_type": "code",
   "execution_count": 11,
   "id": "29005f48",
   "metadata": {},
   "outputs": [],
   "source": [
    "data_path=\"data/big_network/input_network_data.json\"\n",
    "feeder_ids=[1204,1304,1404,1504,1604,1704,1804,1904]\n",
    "active_load_profile_path=\"data/big_network/active_power_profile.parquet\"\n",
    "reactive_load_profile_path=\"data/big_network/reactive_power_profile.parquet\"\n",
    "ev_pool_path=\"data/big_network/ev_active_power_profile.parquet\"\n",
    "\n",
    "data = [data_path, active_load_profile_path, reactive_load_profile_path, ev_pool_path]\n",
    "\n",
    "data = GridAnalysis(data, feeder_ids)"
   ]
  },
  {
   "cell_type": "markdown",
   "id": "6e2d6b0f",
   "metadata": {},
   "source": [
    "The input data is checked for the following validity criteria:\n",
    "\n",
    "1. checks done in this part:\n",
    "  * The LV grid has exactly one transformer, and one source.\n",
    "  * All IDs in the LV Feeder IDs are valid line IDs.\n",
    "  * All the lines in the LV Feeder IDs have the from_node the same as the to_node of the transformer.\n",
    "  * The timestamps are matching between the active load profile, reactive load profile, and EV charging profile.\n",
    "  * The number of EV charging profile is at least the same as the number of sym_load.\n",
    "\n",
    "2. checks done in first part:\n",
    "  * The grid is fully connected in the initial state.\n",
    "  * The grid has no cycles in the initial state.\n",
    "\n",
    "3. checks done in second part:\n",
    "  * The LV grid should be a valid PGM input data.\n",
    "  * The IDs in active load profile and reactive load profile are matching.\n",
    "  * The IDs in active load profile and reactive load profile are valid IDs of sym_load."
   ]
  },
  {
   "cell_type": "markdown",
   "id": "8ea99afc",
   "metadata": {},
   "source": [
    "### **3.2 EV penetration level**\n",
    "\n",
    "The EV penetration level function adds EV charging profiles to a percentage of houses which has EV charged at home (EV penetration level). The houses and charging profiles are chosen randomly. This is done as follows:\n",
    "\n",
    "1. The number of EVs per LV feeder are calculated using: `[penetration_level * total_houses / number_of_feeders]`\n",
    "2. The houses attached to each LV feeder are indentified using the function `find_downstream_vertices` from part 1\n",
    "3. For each LV feeder a random charging profile is added to the specified number of random houses\n",
    "4. The function `powerGridModeling` from part 2 is than called to get the new results"
   ]
  },
  {
   "cell_type": "code",
   "execution_count": null,
   "id": "eed9ed1f",
   "metadata": {},
   "outputs": [],
   "source": [
    "penetration_level = 0.2\n",
    "\n",
    "with Timer(\"EV penetration level\"):\n",
    "  df_result_per_timestamp, df_result_per_line = data.EV_penetration_level(penetration_level)\n",
    "\n",
    "print(\"u_pu per timestamp results:\")\n",
    "print(df_result_per_timestamp)\n",
    "print(\"loading per line results:\")\n",
    "print(df_result_per_line)"
   ]
  },
  {
   "cell_type": "markdown",
   "id": "391556c6",
   "metadata": {},
   "source": [
    "### **3.3 N-1 calculation**"
   ]
  },
  {
   "cell_type": "code",
   "execution_count": null,
   "id": "7030e199",
   "metadata": {},
   "outputs": [],
   "source": [
    "edge_id = 22\n",
    "\n",
    "with Timer(\"N-1 calculation\"):\n",
    "  result = data.alternative_grid_topology(edge_id=edge_id)\n",
    "\n",
    "print(result)\n",
    "# **1.Graph-Processing**\n"
   ]
  }
 ],
 "metadata": {
  "kernelspec": {
   "display_name": "Python 3 (ipykernel)",
   "language": "python",
   "name": "python3"
  },
  "language_info": {
   "codemirror_mode": {
    "name": "ipython",
    "version": 3
   },
   "file_extension": ".py",
   "mimetype": "text/x-python",
   "name": "python",
   "nbconvert_exporter": "python",
   "pygments_lexer": "ipython3",
   "version": "3.12.4"
  }
 },
 "nbformat": 4,
 "nbformat_minor": 5
}
